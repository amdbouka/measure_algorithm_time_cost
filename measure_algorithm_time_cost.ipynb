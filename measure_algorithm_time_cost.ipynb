{
 "cells": [
  {
   "cell_type": "code",
   "execution_count": null,
   "id": "5eac912b-390e-4195-8109-8c07e587929f",
   "metadata": {},
   "outputs": [],
   "source": [
    "from time import time\n",
    "import matplotlib.pyplot as plt\n",
    "\n",
    "# Function representing the algorithm to be analyzed\n",
    "def algorithm(problem_size):\n",
    "    work = 1\n",
    "    for x in range(problem_size):\n",
    "        work += 5\n",
    "        work -= 5\n",
    "\n",
    "# Main function to run the analysis\n",
    "def main():\n",
    "    # Lists to store problem sizes and corresponding runtimes\n",
    "    problem_sizes = []\n",
    "    runtimes = []\n",
    "\n",
    "    print(\"Problem Size\\tSeconds\")\n",
    "\n",
    "    # Initial problem size\n",
    "    problem_size = 1000000  \n",
    "\n",
    "    # Loop to run the algorithm for different problem sizes\n",
    "    for _ in range(4):  \n",
    "        start_time = time()\n",
    "        algorithm(problem_size)\n",
    "        end_time = time()\n",
    "\n",
    "        # Calculate elapsed time\n",
    "        elapsed_time = end_time - start_time\n",
    "        print(f\"{problem_size:12,}\\t{elapsed_time:.6f}\")\n",
    "\n",
    "        # Store problem size and runtime\n",
    "        problem_sizes.append(problem_size)\n",
    "        runtimes.append(elapsed_time)\n",
    "\n",
    "        # Increase problem size for the next iteration\n",
    "        problem_size *= 3  \n",
    "\n",
    "    # Plotting the results\n",
    "    plt.plot(problem_sizes, runtimes)\n",
    "    plt.title('Elapsed Time vs Problem Size')\n",
    "    plt.xlabel('Problem Size')\n",
    "    plt.ylabel('Elapsed Time (s)')\n",
    "    plt.grid(True)\n",
    "    plt.show()\n",
    "\n",
    "# Entry point of the program\n",
    "if __name__ == \"__main__\":\n",
    "    main()\n"
   ]
  }
 ],
 "metadata": {
  "kernelspec": {
   "display_name": "Python 3 (ipykernel)",
   "language": "python",
   "name": "python3"
  },
  "language_info": {
   "codemirror_mode": {
    "name": "ipython",
    "version": 3
   },
   "file_extension": ".py",
   "mimetype": "text/x-python",
   "name": "python",
   "nbconvert_exporter": "python",
   "pygments_lexer": "ipython3",
   "version": "3.11.7"
  }
 },
 "nbformat": 4,
 "nbformat_minor": 5
}
